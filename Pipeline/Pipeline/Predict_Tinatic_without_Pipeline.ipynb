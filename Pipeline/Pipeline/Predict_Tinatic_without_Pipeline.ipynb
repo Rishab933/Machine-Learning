{
  "nbformat": 4,
  "nbformat_minor": 0,
  "metadata": {
    "colab": {
      "provenance": []
    },
    "kernelspec": {
      "name": "python3",
      "display_name": "Python 3"
    },
    "language_info": {
      "name": "python"
    }
  },
  "cells": [
    {
      "cell_type": "code",
      "source": [
        "from google.colab import drive\n",
        "import os\n",
        "import pickle\n",
        "\n",
        "# Step 1: Mount Google Drive\n",
        "drive.mount('/content/drive')\n",
        "\n",
        "os.listdir('/content/drive/MyDrive/')"
      ],
      "metadata": {
        "colab": {
          "base_uri": "https://localhost:8080/"
        },
        "id": "8-awnzOLnk4w",
        "outputId": "7e9433e0-9fd6-4d66-c70c-a130c24cf003"
      },
      "execution_count": 7,
      "outputs": [
        {
          "output_type": "stream",
          "name": "stdout",
          "text": [
            "Drive already mounted at /content/drive; to attempt to forcibly remount, call drive.mount(\"/content/drive\", force_remount=True).\n"
          ]
        },
        {
          "output_type": "execute_result",
          "data": {
            "text/plain": [
              "['Classroom',\n",
              " 'IMG_20210929_155246.jpg',\n",
              " 'IMG_20220111_193821__01.jpg',\n",
              " 'Rishab_3097_graph_theory.gdoc',\n",
              " 'Cover letter Rishab Jaiswal BCS_AI_2B 211003003097.gdoc',\n",
              " 'Getting_Started_with_Enterprise_grade_AI_Badge20240808-7-w8g6ey (2).pdf',\n",
              " 'Getting_Started_with_Enterprise_grade_AI_Badge20240808-7-w8g6ey (1).pdf',\n",
              " 'Artificial_Intelligence_Fundamentals_Badge20240810-8-r6g1uf (2).pdf',\n",
              " 'Artificial_Intelligence_Fundamentals_Badge20240810-8-r6g1uf (1).pdf',\n",
              " 'Getting_Started_with_Artificial_Intelligence_Badge20240810-8-qp5zu4 (2).pdf',\n",
              " 'Getting_Started_with_Artificial_Intelligence_Badge20240810-8-qp5zu4 (1).pdf',\n",
              " 'Getting_Started_With_Artificial_Intelligence_Badge.png',\n",
              " 'image.png',\n",
              " 'image (1).png',\n",
              " 'Udemy_Numpy.pdf',\n",
              " 'Internzvalley_Certificate_of_training.pdf',\n",
              " 'Internzvalley_Certificate_of_Internship.pdf',\n",
              " 'Getting_Started_with_Enterprise_grade_AI_Badge20240808-7-w8g6ey.pdf',\n",
              " 'Getting_Started_with_Artificial_Intelligence_Badge20240810-8-qp5zu4.pdf',\n",
              " 'CIT.pdf',\n",
              " 'Artificial_Intelligence_Fundamentals_Badge20240810-8-r6g1uf.pdf',\n",
              " 'Rishab-Jaiswal-final (1).pdf',\n",
              " 'Rishab-Jaiswal-final.pdf',\n",
              " 'Colab Notebooks',\n",
              " 'Flipkart_robotics.pdf',\n",
              " 'Google.pdf']"
            ]
          },
          "metadata": {},
          "execution_count": 7
        }
      ]
    },
    {
      "cell_type": "code",
      "source": [
        "os.listdir('/content/drive/MyDrive/Colab Notebooks/')"
      ],
      "metadata": {
        "colab": {
          "base_uri": "https://localhost:8080/"
        },
        "id": "tCDP8N6opB-s",
        "outputId": "b3411b8f-59e4-4145-cfc7-3ed3795cb0a5"
      },
      "execution_count": 8,
      "outputs": [
        {
          "output_type": "execute_result",
          "data": {
            "text/plain": [
              "['placement_prediction.ipynb',\n",
              " 'Importing data from API.ipynb',\n",
              " 'EDA-univariate-analysis.ipynb',\n",
              " 'EDA-Bivariate-Multivariate-Analysis.ipynb',\n",
              " 'EDA_Automation.ipynb',\n",
              " 'Feature_Scaling_Standardization.ipynb',\n",
              " 'Normalization.ipynb',\n",
              " 'Encoding Categorical Data.ipynb',\n",
              " 'Encoding_Categorical_Data_2.ipynb',\n",
              " 'Column_Encoding.ipynb',\n",
              " 'Pipeline_1.ipynb',\n",
              " 'Predict_Tinatic_without_Pipeline.ipynb',\n",
              " 'Untitled',\n",
              " 'models']"
            ]
          },
          "metadata": {},
          "execution_count": 8
        }
      ]
    },
    {
      "cell_type": "code",
      "source": [
        "os.listdir('/content/drive/MyDrive/Colab Notebooks/models/')"
      ],
      "metadata": {
        "colab": {
          "base_uri": "https://localhost:8080/"
        },
        "id": "I0WLLSkFrm_r",
        "outputId": "8ee82db0-5204-4abd-e0d0-e48fd74a902b"
      },
      "execution_count": 9,
      "outputs": [
        {
          "output_type": "execute_result",
          "data": {
            "text/plain": [
              "['ohe__embarked.pkl', 'clf.pkl', 'ohe__sex.pkl']"
            ]
          },
          "metadata": {},
          "execution_count": 9
        }
      ]
    },
    {
      "cell_type": "code",
      "source": [
        "os.chdir('/content/drive/MyDrive/Colab Notebooks/models/')"
      ],
      "metadata": {
        "id": "LugWOfflrrcK"
      },
      "execution_count": 13,
      "outputs": []
    },
    {
      "cell_type": "markdown",
      "source": [
        "**importing the files from model folder**"
      ],
      "metadata": {
        "id": "9ZaBZtlWwR9h"
      }
    },
    {
      "cell_type": "code",
      "source": [
        "with open('ohe__sex.pkl','rb') as file:\n",
        "  ohe_sex = pickle.load(file)"
      ],
      "metadata": {
        "id": "WoWgzNwsr3XA"
      },
      "execution_count": 15,
      "outputs": []
    },
    {
      "cell_type": "code",
      "source": [
        "with open('ohe__embarked.pkl','rb') as file:\n",
        "  ohe_embarked = pickle.load(file)"
      ],
      "metadata": {
        "id": "DyJ8QudrsIkb"
      },
      "execution_count": 16,
      "outputs": []
    },
    {
      "cell_type": "code",
      "source": [
        "with open('clf.pkl','rb') as file:\n",
        "  clf = pickle.load(file)"
      ],
      "metadata": {
        "id": "ppoBya7jtB46"
      },
      "execution_count": 18,
      "outputs": []
    },
    {
      "cell_type": "markdown",
      "source": [
        "# Creating a new test data to test that our model is working or not."
      ],
      "metadata": {
        "id": "ulfGUwLlwY08"
      }
    },
    {
      "cell_type": "code",
      "source": [
        "# test_input\n",
        "import numpy as np\n",
        "test_input = np.array([2, 'male', 31.0, 0, 0, 10.5, 'S'], dtype = object).reshape(1,7)"
      ],
      "metadata": {
        "id": "1C-OOjK4tJek"
      },
      "execution_count": 23,
      "outputs": []
    },
    {
      "cell_type": "code",
      "source": [
        "test_input"
      ],
      "metadata": {
        "colab": {
          "base_uri": "https://localhost:8080/"
        },
        "id": "uavAjSdttzVo",
        "outputId": "041f44dd-e525-446d-cb82-7798215d0117"
      },
      "execution_count": 24,
      "outputs": [
        {
          "output_type": "execute_result",
          "data": {
            "text/plain": [
              "array([[2, 'male', 31.0, 0, 0, 10.5, 'S']], dtype=object)"
            ]
          },
          "metadata": {},
          "execution_count": 24
        }
      ]
    },
    {
      "cell_type": "markdown",
      "source": [
        "**Preprocessing the new test data as we hav dobe with x_train and then concatetating all together and in order.**"
      ],
      "metadata": {
        "id": "aDw3KfNwwpPP"
      }
    },
    {
      "cell_type": "code",
      "source": [
        "test_input_sex = ohe_sex.transform(test_input[:,1].reshape(1,1))\n",
        "test_input_sex"
      ],
      "metadata": {
        "colab": {
          "base_uri": "https://localhost:8080/"
        },
        "id": "ujYHJ_X8t1jU",
        "outputId": "f1b9b431-5457-4e5f-eac5-7b4befada489"
      },
      "execution_count": 25,
      "outputs": [
        {
          "output_type": "stream",
          "name": "stderr",
          "text": [
            "/usr/local/lib/python3.10/dist-packages/sklearn/base.py:465: UserWarning: X does not have valid feature names, but OneHotEncoder was fitted with feature names\n",
            "  warnings.warn(\n"
          ]
        },
        {
          "output_type": "execute_result",
          "data": {
            "text/plain": [
              "array([[0, 1]], dtype=int32)"
            ]
          },
          "metadata": {},
          "execution_count": 25
        }
      ]
    },
    {
      "cell_type": "code",
      "source": [
        "test_input_embarked = ohe_embarked.transform(test_input[:,-1].reshape(1,1))\n",
        "test_input_embarked"
      ],
      "metadata": {
        "colab": {
          "base_uri": "https://localhost:8080/"
        },
        "id": "ZyRBqNoOubA8",
        "outputId": "5e7b92a2-a682-4995-9f21-89de3b2d4504"
      },
      "execution_count": 26,
      "outputs": [
        {
          "output_type": "execute_result",
          "data": {
            "text/plain": [
              "array([[0, 0, 1]], dtype=int32)"
            ]
          },
          "metadata": {},
          "execution_count": 26
        }
      ]
    },
    {
      "cell_type": "code",
      "source": [
        "test_input_age = test_input[:,2].reshape(1,1)"
      ],
      "metadata": {
        "id": "SbGz8IXVumJv"
      },
      "execution_count": 28,
      "outputs": []
    },
    {
      "cell_type": "code",
      "source": [
        "test_input_transform = np.concatenate((test_input[:,[0,3,4,5]],test_input_age,test_input_sex,test_input_embarked), axis=1)"
      ],
      "metadata": {
        "id": "PwpcBUQ3u9N6"
      },
      "execution_count": 29,
      "outputs": []
    },
    {
      "cell_type": "code",
      "source": [
        "test_input_transform.shape"
      ],
      "metadata": {
        "colab": {
          "base_uri": "https://localhost:8080/"
        },
        "id": "6bY9ZA3dvy06",
        "outputId": "02c331be-f8e4-45d3-cefd-c051f21598bc"
      },
      "execution_count": 30,
      "outputs": [
        {
          "output_type": "execute_result",
          "data": {
            "text/plain": [
              "(1, 10)"
            ]
          },
          "metadata": {},
          "execution_count": 30
        }
      ]
    },
    {
      "cell_type": "markdown",
      "source": [
        "**now pass the preprocessed data to get the prediction.**"
      ],
      "metadata": {
        "id": "4EvpuJQTw8b4"
      }
    },
    {
      "cell_type": "code",
      "source": [
        "clf.predict(test_input_transform)"
      ],
      "metadata": {
        "colab": {
          "base_uri": "https://localhost:8080/"
        },
        "id": "GVa1tV9zv3BV",
        "outputId": "8b91b012-c854-42f0-d439-758fd25c623b"
      },
      "execution_count": 31,
      "outputs": [
        {
          "output_type": "execute_result",
          "data": {
            "text/plain": [
              "array([0])"
            ]
          },
          "metadata": {},
          "execution_count": 31
        }
      ]
    }
  ]
}